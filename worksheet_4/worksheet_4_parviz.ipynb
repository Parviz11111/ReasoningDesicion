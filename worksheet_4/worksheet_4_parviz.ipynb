{
 "cells": [
  {
   "cell_type": "code",
   "execution_count": 1,
   "metadata": {
    "collapsed": true
   },
   "outputs": [],
   "source": [
    "import random\n",
    "import numpy as np"
   ]
  },
  {
   "cell_type": "markdown",
   "source": [
    "## Exercise 2"
   ],
   "metadata": {
    "collapsed": false
   }
  },
  {
   "cell_type": "code",
   "execution_count": 2,
   "outputs": [],
   "source": [
    "class Blackjack:\n",
    "    def __init__(self):\n",
    "        self.player_hand = []\n",
    "        self.dealer_hand = []\n",
    "\n",
    "    def reset(self):\n",
    "        self.player_hand = self.draw_hand()\n",
    "        self.dealer_hand = self.draw_hand()\n",
    "        return self.get_state()\n",
    "\n",
    "    def draw_card(self):\n",
    "        return random.choice(range(1, 11))\n",
    "\n",
    "    def draw_hand(self):\n",
    "        return [self.draw_card(), self.draw_card()]\n",
    "\n",
    "    def get_state(self):\n",
    "        return sum(self.player_hand), self.dealer_hand[0], self.is_usable_ace(self.player_hand)\n",
    "\n",
    "    def is_usable_ace(self, hand):\n",
    "        return 1 in hand and sum(hand) + 10 <= 21\n",
    "\n",
    "    def step(self, action):\n",
    "        if action == 0:  # Stick\n",
    "            return self.play_dealer()\n",
    "\n",
    "        if action == 1:  # Hit\n",
    "            self.player_hand.append(self.draw_card())\n",
    "            if sum(self.player_hand) > 21:\n",
    "                return self.get_state(), -1, True  # Player bust\n",
    "            else:\n",
    "                return self.get_state(), 0, False\n",
    "\n",
    "    def play_dealer(self):\n",
    "        while sum(self.dealer_hand) < 17:\n",
    "            self.dealer_hand.append(self.draw_card())\n",
    "\n",
    "        player_score = sum(self.player_hand)\n",
    "        dealer_score = sum(self.dealer_hand)\n",
    "\n",
    "        if dealer_score > 21 or player_score > dealer_score:\n",
    "            return self.get_state(), 1, True\n",
    "        elif player_score == dealer_score:\n",
    "            return self.get_state(), 0, True\n",
    "        else:\n",
    "            return self.get_state(), -1, True"
   ],
   "metadata": {
    "collapsed": false
   }
  },
  {
   "cell_type": "code",
   "execution_count": 5,
   "outputs": [],
   "source": [
    "def human_play(env):\n",
    "    state = env.reset()\n",
    "    done = False\n",
    "\n",
    "    while not done:\n",
    "        print(f'State: {state}')\n",
    "        action = int(input('Enter action (0: Stick, 1: Hit): '))\n",
    "        state, reward, done = env.step(action)\n",
    "\n",
    "    print(f'Result: {reward}')"
   ],
   "metadata": {
    "collapsed": false
   }
  },
  {
   "cell_type": "code",
   "execution_count": 14,
   "outputs": [
    {
     "name": "stdout",
     "output_type": "stream",
     "text": [
      "State: (5, 2, True)\n",
      "State: (7, 2, True)\n",
      "State: (17, 2, False)\n",
      "Result: -1\n"
     ]
    }
   ],
   "source": [
    "blackjack_env = Blackjack()\n",
    "human_play(blackjack_env)"
   ],
   "metadata": {
    "collapsed": false
   }
  },
  {
   "cell_type": "code",
   "execution_count": null,
   "outputs": [],
   "source": [],
   "metadata": {
    "collapsed": false
   }
  }
 ],
 "metadata": {
  "kernelspec": {
   "display_name": "Python 3",
   "language": "python",
   "name": "python3"
  },
  "language_info": {
   "codemirror_mode": {
    "name": "ipython",
    "version": 2
   },
   "file_extension": ".py",
   "mimetype": "text/x-python",
   "name": "python",
   "nbconvert_exporter": "python",
   "pygments_lexer": "ipython2",
   "version": "2.7.6"
  }
 },
 "nbformat": 4,
 "nbformat_minor": 0
}
