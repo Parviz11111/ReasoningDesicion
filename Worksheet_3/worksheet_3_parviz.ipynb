{
 "cells": [
  {
   "cell_type": "code",
   "execution_count": 12,
   "metadata": {
    "collapsed": true
   },
   "outputs": [],
   "source": [
    "import random\n",
    "import math\n",
    "import matplotlib.pyplot as plt\n",
    "import numpy as np"
   ]
  },
  {
   "cell_type": "markdown",
   "source": [
    "3a) To generate uniformly distributed random samples x in the area of the interior of the square, we can generate random values of x and y coordinates between -0.5 and 0.5 and then check if the distance between the point (x,y) and the center of the circle is less than or equal to r."
   ],
   "metadata": {
    "collapsed": false
   }
  },
  {
   "cell_type": "code",
   "execution_count": 13,
   "outputs": [
    {
     "name": "stdout",
     "output_type": "stream",
     "text": [
      "Area estimate: 0.102024\n"
     ]
    }
   ],
   "source": [
    "circle_radius = 0.3\n",
    "number_of_samples = 10000\n",
    "inside_circle_count = 0\n",
    "\n",
    "# Generate uniformly distributed random samples\n",
    "for i in range(number_of_samples):\n",
    "    x = random.uniform(-0.5, 0.5)\n",
    "    y = random.uniform(-0.5, 0.5)\n",
    "    if math.sqrt(x**2 + y**2) <= circle_radius:\n",
    "        inside_circle_count += 1\n",
    "\n",
    "# Estimate of the area covered by the circle\n",
    "area_estimate = 4 * circle_radius**2 * inside_circle_count / number_of_samples\n",
    "\n",
    "print(f\"Area estimate: {area_estimate}\")"
   ],
   "metadata": {
    "collapsed": false
   }
  },
  {
   "cell_type": "markdown",
   "source": [
    "3b) To estimate the area covered by the circle, we count the percentage of samples that fall into the interior of the circle. We can do this by dividing the count of samples inside the circle by the total number of samples and multiplying the result by the area of the square."
   ],
   "metadata": {
    "collapsed": false
   }
  },
  {
   "cell_type": "code",
   "execution_count": 14,
   "outputs": [
    {
     "name": "stdout",
     "output_type": "stream",
     "text": [
      "Estimate of the area covered by the circle: 0.2834\n",
      "Real area of the circle: 0.2827433388230814\n",
      "Accuracy of the estimate: 0.00232246382762524\n"
     ]
    }
   ],
   "source": [
    "square_area = 1\n",
    "circle_area_estimate = square_area * inside_circle_count / number_of_samples\n",
    "real_circle_area = math.pi * circle_radius**2\n",
    "\n",
    "accuracy = abs(circle_area_estimate - real_circle_area) / real_circle_area\n",
    "\n",
    "print(f\"Estimate of the area covered by the circle: {circle_area_estimate}\")\n",
    "print(f\"Real area of the circle: {real_circle_area}\")\n",
    "print(f\"Accuracy of the estimate: {accuracy}\")"
   ],
   "metadata": {
    "collapsed": false
   }
  },
  {
   "cell_type": "markdown",
   "source": [
    "3c) When r gets very small, the estimation becomes inaccurate because most of the samples fall outside the circle, and only a few samples fall inside the circle. This leads to a high variance in the estimate. Importance Sampling can be used to reduce the variance by sampling from a proposal distribution that has a higher probability of generating samples inside the circle."
   ],
   "metadata": {
    "collapsed": false
   }
  },
  {
   "cell_type": "markdown",
   "source": [
    "1. A uniform distribution within the circle: We can generate samples uniformly distributed within the circle by generating random values of x and y coordinates between -r and r and then checking if the distance between the point (x,y) and the center of the circle is less than or equal to r."
   ],
   "metadata": {
    "collapsed": false
   }
  },
  {
   "cell_type": "code",
   "execution_count": 15,
   "outputs": [
    {
     "name": "stdout",
     "output_type": "stream",
     "text": [
      "Area estimate using Importance Sampling with a uniform distribution within the circle as the proposal distribution: 0.282492\n"
     ]
    }
   ],
   "source": [
    "number_of_samples = 10000\n",
    "inside_circle_count = 0\n",
    "\n",
    "# Generate samples from a uniform distribution within the circle\n",
    "for i in range(number_of_samples):\n",
    "    x = random.uniform(-circle_radius, circle_radius)\n",
    "    y = random.uniform(-circle_radius, circle_radius)\n",
    "    if x**2 + y**2 <= circle_radius**2:\n",
    "        inside_circle_count += 1\n",
    "\n",
    "# Estimate of the area covered by the circle using Importance Sampling with a uniform distribution within the circle as the proposal distribution\n",
    "area_estimate_uniform = 4 * circle_radius**2 * inside_circle_count / number_of_samples\n",
    "\n",
    "print(f\"Area estimate using Importance Sampling with a uniform distribution within the circle as the proposal distribution: {area_estimate_uniform}\")"
   ],
   "metadata": {
    "collapsed": false
   }
  },
  {
   "cell_type": "markdown",
   "source": [
    "2. A Gaussian distribution centered at the origin with a standard deviation of r: We can generate samples from a Gaussian distribution centered at the origin with a standard deviation of r by using the numpy.random.normal() function."
   ],
   "metadata": {
    "collapsed": false
   }
  },
  {
   "cell_type": "code",
   "execution_count": 16,
   "outputs": [
    {
     "name": "stdout",
     "output_type": "stream",
     "text": [
      "Area estimate using Importance Sampling with a Gaussian distribution as the proposal distribution: 0.141228\n"
     ]
    }
   ],
   "source": [
    "number_of_samples = 10000\n",
    "inside_circle_count = 0\n",
    "\n",
    "# Generate samples from a Gaussian distribution centered at the origin with a standard deviation of r\n",
    "for i in range(num_samples):\n",
    "    x, y = np.random.normal(scale=r, size=2)\n",
    "    if x**2 + y**2 <= r**2:\n",
    "        inside_circle_count += 1\n",
    "\n",
    "# Estimate of the area covered by the circle using Importance Sampling with a Gaussian distribution as the proposal distribution\n",
    "area_estimate_gaussian = 4 * r**2 * inside_circle_count / num_samples\n",
    "\n",
    "print(f\"Area estimate using Importance Sampling with a Gaussian distribution as the proposal distribution: {area_estimate_gaussian}\")\n"
   ],
   "metadata": {
    "collapsed": false
   }
  },
  {
   "cell_type": "markdown",
   "source": [
    "3d) The proper number of samples required for a stable estimate of the area depends on the variance of the estimate. We can use the standard deviation of the estimate as a quality measure for the number of samples. The standard deviation can be calculated as the square root of the variance, which is the difference between the estimate and the mean of the squared estimates."
   ],
   "metadata": {
    "collapsed": false
   }
  },
  {
   "cell_type": "code",
   "execution_count": 17,
   "outputs": [
    {
     "data": {
      "text/plain": "<Figure size 432x288 with 1 Axes>",
      "image/png": "[encoded data removed]"
     },
     "metadata": {},
     "output_type": "display_data"
    }
   ],
   "source": [
    "import matplotlib.pyplot as plt\n",
    "\n",
    "# Calculate the standard deviation as a function of the number of samples\n",
    "sample_sizes = [10, 100, 1000, 10000, 100000]\n",
    "standard_deviations = []\n",
    "for num_samples in sample_sizes:\n",
    "    estimates = []\n",
    "    for i in range(10):\n",
    "        count = 0\n",
    "        for j in range(num_samples):\n",
    "            x = random.uniform(-0.5, 0.5)\n",
    "            y = random.uniform(-0.5, 0.5)\n",
    "            if math.sqrt(x**2 + y**2) <= r:\n",
    "                count += 1\n",
    "        area_estimate = 4 * r**2 * count / num_samples\n",
    "        estimates.append(area_estimate)\n",
    "    mean_squared_estimate = sum([e**2 for e in estimates]) / len(estimates)\n",
    "    variance = mean_squared_estimate - (sum(estimates) / len(estimates))**2\n",
    "    standard_deviation = math.sqrt(variance)\n",
    "    standard_deviations.append(standard_deviation)\n",
    "\n",
    "# Plot the standard deviation as a function of the number of samples\n",
    "plt.plot(sample_sizes, standard_deviations)\n",
    "plt.xscale(\"log\")\n",
    "plt.xlabel(\"Number of samples\")\n",
    "plt.ylabel(\"Standard deviation\")\n",
    "plt.show()"
   ],
   "metadata": {
    "collapsed": false
   }
  },
  {
   "cell_type": "markdown",
   "source": [
    "This code generates samples for different sample sizes and calculates the standard deviation of the estimates using the formula for the variance. The standard deviation is plotted as a function of the number of samples on a logarithmic scale. This plot can be used to determine the minimum number of samples required to achieve a desired level of accuracy."
   ],
   "metadata": {
    "collapsed": false
   }
  }
 ],
 "metadata": {
  "kernelspec": {
   "display_name": "Python 3",
   "language": "python",
   "name": "python3"
  },
  "language_info": {
   "codemirror_mode": {
    "name": "ipython",
    "version": 2
   },
   "file_extension": ".py",
   "mimetype": "text/x-python",
   "name": "python",
   "nbconvert_exporter": "python",
   "pygments_lexer": "ipython2",
   "version": "2.7.6"
  }
 },
 "nbformat": 4,
 "nbformat_minor": 0
}
