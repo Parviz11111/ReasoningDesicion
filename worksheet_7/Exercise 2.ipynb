{
 "cells": [
  {
   "cell_type": "code",
   "execution_count": 12,
   "metadata": {},
   "outputs": [],
   "source": [
    "import pandas as pd\n",
    "\n",
    "# Load the data set\n",
    "data = pd.read_csv('anthrokids.csv')\n",
    "\n",
    "# Separate male and female datasets\n",
    "male_data = data[data['gender'] == 'M']\n",
    "female_data = data[data['gender'] == 'F']\n",
    "\n",
    "# Extract age and height measurements\n",
    "male_classes = male_data['age']\n",
    "male_features = male_data['height']\n",
    "female_classes = female_data['age']\n",
    "female_features = female_data['height']\n"
   ]
  },
  {
   "cell_type": "code",
   "execution_count": 13,
   "metadata": {},
   "outputs": [],
   "source": [
    "from sklearn.model_selection import train_test_split\n",
    "\n",
    "# Split male dataset into training and test sets\n",
    "male_features_train, male_features_test, male_classes_train, male_classes_test = train_test_split(\n",
    "    male_features, male_classes, test_size=0.33, random_state=42)\n",
    "\n",
    "# Split female dataset into training and test sets\n",
    "female_features_train, female_features_test, female_classes_train, female_classes_test = train_test_split(\n",
    "    female_features, female_classes, test_size=0.33, random_state=42)\n"
   ]
  },
  {
   "cell_type": "code",
   "execution_count": 17,
   "metadata": {},
   "outputs": [],
   "source": [
    "from scipy.stats import norm\n",
    "\n",
    "# Parameters for male classes\n",
    "male_class_params = {}\n",
    "for age in range(3, 19):\n",
    "    if age in male_classes_train.unique():\n",
    "        age_data = male_features_train[male_classes_train == age]\n",
    "        mean = age_data.mean()\n",
    "        std = age_data.std()\n",
    "        male_class_params[age] = (mean, std)\n",
    "\n",
    "# Prior probabilities for male classes\n",
    "male_prior_probs = male_classes_train.value_counts(normalize=True)\n",
    "\n",
    "# Parameters for female classes\n",
    "female_class_params = {}\n",
    "for age in range(3, 19):\n",
    "    if age in female_classes_train.unique():\n",
    "        age_data = female_features_train[female_classes_train == age]\n",
    "        mean = age_data.mean()\n",
    "        std = age_data.std()\n",
    "        female_class_params[age] = (mean, std)\n",
    "\n",
    "# Prior probabilities for female classes\n",
    "female_prior_probs = female_classes_train.value_counts(normalize=True)\n"
   ]
  },
  {
   "cell_type": "code",
   "execution_count": 18,
   "metadata": {},
   "outputs": [
    {
     "name": "stdout",
     "output_type": "stream",
     "text": [
      "Male recognition rate: 0.0%\n",
      "Female recognition rate: 0.0%\n"
     ]
    }
   ],
   "source": [
    "def calculate_posterior_probability(feature, mean, std):\n",
    "    return norm.pdf(feature, loc=mean, scale=std)\n",
    "\n",
    "def classify_data(features, class_params, prior_probs):\n",
    "    predictions = []\n",
    "    for feature in features:\n",
    "        max_posterior = 0\n",
    "        predicted_class = None\n",
    "        for age, (mean, std) in class_params.items():\n",
    "            posterior = calculate_posterior_probability(feature, mean, std) * prior_probs[age]\n",
    "            if posterior > max_posterior:\n",
    "                max_posterior = posterior\n",
    "                predicted_class = age\n",
    "        predictions.append(predicted_class)\n",
    "    return predictions\n",
    "\n",
    "# Classify male test data\n",
    "male_predictions = classify_data(male_features_test, male_class_params, male_prior_probs)\n",
    "\n",
    "# Classify female test data\n",
    "female_predictions = classify_data(female_features_test, female_class_params, female_prior_probs)\n",
    "\n",
    "# Check accuracy for male predictions\n",
    "male_accuracy = (male_predictions == male_classes_test).mean()\n",
    "print(f\"Male recognition rate: {male_accuracy * 100}%\")\n",
    "\n",
    "# Check accuracy for female predictions\n",
    "female_accuracy = (female_predictions == female_classes_test).mean()\n",
    "print(f\"Female recognition rate: {female_accuracy * 100}%\")\n"
   ]
  },
  {
   "cell_type": "code",
   "execution_count": 19,
   "metadata": {},
   "outputs": [
    {
     "name": "stdout",
     "output_type": "stream",
     "text": [
      "Male recognition rate: 0.00%\n",
      "Female recognition rate: 0.00%\n"
     ]
    }
   ],
   "source": [
    "def calculate_recognition_rate(predictions, true_classes):\n",
    "    correct = (predictions == true_classes).sum()\n",
    "    total = len(true_classes)\n",
    "    recognition_rate = correct / total\n",
    "    return recognition_rate\n",
    "\n",
    "# Classify male test data\n",
    "male_predictions = classify_data(male_features_test, male_class_params, male_prior_probs)\n",
    "\n",
    "# Classify female test data\n",
    "female_predictions = classify_data(female_features_test, female_class_params, female_prior_probs)\n",
    "\n",
    "# Calculate recognition rates\n",
    "male_recognition_rate = calculate_recognition_rate(male_predictions, male_classes_test)\n",
    "female_recognition_rate = calculate_recognition_rate(female_predictions, female_classes_test)\n",
    "\n",
    "print(f\"Male recognition rate: {male_recognition_rate * 100:.2f}%\")\n",
    "print(f\"Female recognition rate: {female_recognition_rate * 100:.2f}%\")\n"
   ]
  }
 ],
 "metadata": {
  "kernelspec": {
   "display_name": "ANN",
   "language": "python",
   "name": "python3"
  },
  "language_info": {
   "codemirror_mode": {
    "name": "ipython",
    "version": 3
   },
   "file_extension": ".py",
   "mimetype": "text/x-python",
   "name": "python",
   "nbconvert_exporter": "python",
   "pygments_lexer": "ipython3",
   "version": "3.11.3"
  },
  "orig_nbformat": 4
 },
 "nbformat": 4,
 "nbformat_minor": 2
}
